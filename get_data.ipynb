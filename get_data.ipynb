{
 "cells": [
  {
   "cell_type": "code",
   "execution_count": null,
   "metadata": {},
   "outputs": [],
   "source": [
    "\n",
    "import yaml\n",
    "import pandas as pd\n",
    "import numpy as np\n",
    "import requests\n",
    "import io\n",
    "import os\n",
    "import matplotlib.pyplot as plt\n",
    "import seaborn as sns\n",
    "\n",
    "# create folders to save data (git does not track empty directories)\n",
    "\n",
    "os.makedirs('data/', exist_ok=True)\n",
    "os.makedirs('data/processed/', exist_ok=True)  \n",
    "os.makedirs('data/raw/', exist_ok=True)  \n",
    "\n",
    "# load login credentials\n",
    "\n",
    "with open(\"config/login.yaml\", \"r\", encoding=\"utf-8\") as file:\n",
    "    conf = yaml.safe_load(file)\n",
    "\n",
    "config = {\n",
    "    \"path\": conf[\"access_path\"],\n",
    "    \"format\": conf[\"format\"]\n",
    "}\n",
    "\n",
    "login = {\n",
    "    \"username\": conf[\"username\"],\n",
    "    \"password\": conf[\"password\"]\n",
    "}\n"
   ]
  },
  {
   "cell_type": "markdown",
   "metadata": {},
   "source": [
    "## Microcensus data\n",
    "\n",
    "The microcensus is a survey conducted by the national statistical office that collects data about a fraction of the total national population. Let us look at which data tables exist for the microcensus:"
   ]
  },
  {
   "cell_type": "code",
   "execution_count": null,
   "metadata": {},
   "outputs": [],
   "source": [
    "def get_table_list(selection, parameters, config):\n",
    "    parameters[\"selection\"] = selection\n",
    "    url = f\"{config['path']}/catalogue/tables\"\n",
    "    return requests.get(url, params=parameters).json()"
   ]
  },
  {
   "cell_type": "code",
   "execution_count": null,
   "metadata": {},
   "outputs": [],
   "source": [
    "#relevant_tables = get_table_list(\"12211*\", login, config)\n",
    "#relevant_tables"
   ]
  },
  {
   "cell_type": "markdown",
   "metadata": {},
   "source": [
    "Let us look at the data for a particular table, e.g. `12211-0003` looks potentially interesting because it has info on income. "
   ]
  },
  {
   "cell_type": "code",
   "execution_count": null,
   "metadata": {},
   "outputs": [],
   "source": [
    "\n",
    "def get_data(table, parameters, config):\n",
    "    csv_path = f\"data/raw/tablefile_{table}.csv\"\n",
    "    if os.path.isfile(csv_path):\n",
    "            data = pd.read_csv(csv_path)\n",
    "    else:\n",
    "            data = get_data_from_api(table, parameters, config)\n",
    "    return data\n",
    "\n",
    "        \n",
    "def get_data_from_api(table, parameters, config):\n",
    "    print(f\"Requesting table data for table '{table}'\")\n",
    "    parameters[\"name\"] = table\n",
    "\n",
    "    # use \"ffcsv\" format because it is consistent across tables\n",
    "    # and over time\n",
    "    parameters[\"format\"] = config[\"format\"]\n",
    "    url = f\"{config['path']}/data/tablefile\"\n",
    "    \n",
    "    response = requests.get(url, params=parameters)\n",
    "    if response.ok:\n",
    "        data = pd.read_csv(\n",
    "            io.StringIO(response.content.decode(\"utf-8\")),\n",
    "            sep = \";\",\n",
    "            decimal = \",\",\n",
    "            na_values = [\"-\"],\n",
    "        )\n",
    "        data.to_csv(f\"data/raw/tablefile_{table}.csv\", index=False)\n",
    "        return data\n",
    "    else:\n",
    "        return response\n"
   ]
  },
  {
   "cell_type": "code",
   "execution_count": null,
   "metadata": {},
   "outputs": [],
   "source": [
    "my_table = \"12211-0003\"\n",
    "\n",
    "df = get_data(my_table, login, config)\n"
   ]
  },
  {
   "cell_type": "code",
   "execution_count": null,
   "metadata": {},
   "outputs": [],
   "source": [
    "df.head()"
   ]
  },
  {
   "cell_type": "markdown",
   "metadata": {},
   "source": [
    "## Data cleaning"
   ]
  },
  {
   "cell_type": "code",
   "execution_count": null,
   "metadata": {},
   "outputs": [],
   "source": [
    "df.head()"
   ]
  },
  {
   "cell_type": "code",
   "execution_count": null,
   "metadata": {},
   "outputs": [],
   "source": [
    "# filter out irrelevant rows, e.g., rows with 'Ohne Angabe' or 'Insgesamt'\n",
    "df['ERW041__Erwerbstaetige_aus_Hauptwohnsitzhaushalten__1000'] = pd.to_numeric(df['ERW041__Erwerbstaetige_aus_Hauptwohnsitzhaushalten__1000'], errors='coerce')\n",
    "\n",
    "df_filtered = df[df['2_Auspraegung_Label'].isin(['männlich', 'weiblich']) & ~df['3_Auspraegung_Label'].isin(['Ohne Angabe', 'Insgesamt'])]\n",
    "\n",
    "# Group data by income bracket and gender, and sum up the relevant population or employment figures\n",
    "grouped_data = df_filtered.groupby(['3_Auspraegung_Label', '2_Auspraegung_Label']).sum()\n",
    "\n",
    "grouped_data.head()"
   ]
  },
  {
   "cell_type": "code",
   "execution_count": null,
   "metadata": {},
   "outputs": [],
   "source": [
    "\n",
    "# Extract unique income brackets\n",
    "income_brackets = df_filtered['3_Auspraegung_Label'].unique()\n",
    "# Order grouped_data_reset to have the same order as income_brackets\n",
    "grouped_data_reset = grouped_data_reset.set_index('3_Auspraegung_Label').loc[income_brackets].reset_index()\n",
    "\n",
    "# Plotting for each gender\n",
    "genders = ['männlich', 'weiblich']\n",
    "colors = ['blue', 'red']  # Colors for männlich and weiblich respectively\n",
    "\n",
    "for gender in genders:\n",
    "    plt.figure(figsize=(12, 6))\n",
    "    population_values = []\n",
    "    #total_population = grouped_data.loc[gender, 'BEV036__Bevoelkerung_in_Hauptwohnsitzhaushalten__1000'].sum()\n",
    "\n",
    "    for bracket in income_brackets:\n",
    "        if (bracket, gender) in grouped_data.index:\n",
    "            population = grouped_data.loc[(bracket, gender), 'ERW041__Erwerbstaetige_aus_Hauptwohnsitzhaushalten__1000']\n",
    "        else:\n",
    "            population = 0  # Or use NaN if you prefer\n",
    "        population_values.append(population)\n",
    "\n",
    "# Change population_values to floats in a numpy array\n",
    "population_values = np.array(population_values, dtype=float)\n"
   ]
  },
  {
   "cell_type": "code",
   "execution_count": null,
   "metadata": {},
   "outputs": [],
   "source": [
    "# Calculate the total population for each gender\n",
    "total_population_by_gender = grouped_data.groupby(level=0).sum()\n",
    "\n",
    "# Calculate percentage of total for each row\n",
    "grouped_data['Percentage'] = grouped_data['ERW041__Erwerbstaetige_aus_Hauptwohnsitzhaushalten__1000'] / grouped_data['ERW041__Erwerbstaetige_aus_Hauptwohnsitzhaushalten__1000'].sum() * 100\n"
   ]
  },
  {
   "cell_type": "code",
   "execution_count": null,
   "metadata": {},
   "outputs": [],
   "source": [
    "# Histogram using matplotlib\n",
    "\n",
    "for gender in genders:\n",
    "    plt.bar(income_brackets, population_values, color=colors[genders.index(gender)])\n",
    "    plt.title(f'Employees in Main Residence Households for {gender} by Income Bracket')\n",
    "    plt.xlabel('Income Bracket')\n",
    "    plt.ylabel('Population in Thousands')\n",
    "    # rotate and shift x-axis labels to have the top aligned with the bars\n",
    "    plt.xticks(rotation=45, ha='right')\n",
    "    plt.show()"
   ]
  },
  {
   "cell_type": "markdown",
   "metadata": {},
   "source": [
    "Can we see more if we look at relative numbers rather than sums of people?"
   ]
  },
  {
   "cell_type": "code",
   "execution_count": null,
   "metadata": {},
   "outputs": [],
   "source": [
    "\n",
    "# Reset index for plotting\n",
    "grouped_data_reset = grouped_data.reset_index()\n",
    "\n",
    "# Plotting with Seaborn\n",
    "plt.figure(figsize=(12, 6))\n",
    "sns.barplot(data=grouped_data_reset, x='3_Auspraegung_Label', y='Percentage', hue='2_Auspraegung_Label', palette=['blue', 'red'])\n",
    "plt.title('Percentage of Population in Main Residence Households by Income Bracket and Gender')\n",
    "plt.xlabel('Income Bracket')\n",
    "plt.ylabel('Percentage of Total Population')\n",
    "# rotate and shift x-axis labels to have the top aligned with the bars\n",
    "plt.xticks(rotation=45, ha='right')\n",
    "plt.show()"
   ]
  }
 ],
 "metadata": {
  "kernelspec": {
   "display_name": "Python 3",
   "language": "python",
   "name": "python3"
  },
  "language_info": {
   "codemirror_mode": {
    "name": "ipython",
    "version": 3
   },
   "file_extension": ".py",
   "mimetype": "text/x-python",
   "name": "python",
   "nbconvert_exporter": "python",
   "pygments_lexer": "ipython3",
   "version": "3.10.9"
  },
  "orig_nbformat": 4
 },
 "nbformat": 4,
 "nbformat_minor": 2
}
